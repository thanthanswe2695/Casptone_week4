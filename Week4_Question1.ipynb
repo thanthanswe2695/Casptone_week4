{
 "cells": [
  {
   "cell_type": "markdown",
   "metadata": {},
   "source": [
    "# The battle of Neighborhoods"
   ]
  },
  {
   "cell_type": "markdown",
   "metadata": {},
   "source": [
    "## Week 4 : Introduction/Business Problem"
   ]
  },
  {
   "cell_type": "markdown",
   "metadata": {},
   "source": [
    "### Title :Restaurant Recommender System in Yangon"
   ]
  },
  {
   "cell_type": "markdown",
   "metadata": {},
   "source": [
    "### Problem Background :\n",
    "Yangon formerly known as Rangoon, is the capital of the Yangon Region and the largest city of Myanmar (also known as Burma). Yangon served as the capital of Myanmar until 2006, when the military government relocated the administrative functions to the purpose-built city of Naypyidaw in central Myanmar.With over 7 million people, Yangon is Myanmar's most populous city and its most important commercial centre.\n",
    "\n",
    "Yangon is administered by the Yangon City Development Committee (YCDC). YCDC also coordinates urban planning.The city is made up of 33 townships and is part of Yangon Region. Yangon Region is divided into four districts, which overlap with the city's jurisdiction.\n",
    "\n",
    "Myanmar's foodie capital, we can find plenty of cheap and tasty bites to eat in Yangon. While we'll easily be able to eat street food and local eats anywhere in the city.Roadside vendors, tea shops,Traditional Burmese foods,  Indian foods,Chinese foods,Japense foods, Korean foods, Thai foods and Western fast food are all very popular in the city.As it’s a big city, you can try all sorts of regional Burmese dishes as well as modern and international dishes. "
   ]
  },
  {
   "cell_type": "markdown",
   "metadata": {},
   "source": [
    "###  Description :\n",
    "\n",
    "For example, I travel and keep changing places very frequently from one state to another state in other country.This is very tumultuous and get to different experience from its environment, however i do not have much knowledge about.Travel from different places or different states or different countries can learn different things including their foods. \n",
    "In such case, food is one of the attraction to the people around the world to try it out if it is to be the best.Sometimes, we have the language problems if we can't speak their local language but we want to find the right place,suitable cost to serve us the best possible way.So there are few questions that must be addressed on:\n",
    "\n",
    "1. How many types of foods are available in the restaurant ? \n",
    "2. which is the most nearest to me with good rating ?\n",
    "3. How many \"similar\" restaurants are available near by me ?\n",
    "4. Do the \"similar\" restaurants cost more ? if so, what speciality do that have ?\n",
    "\n",
    "To address such question, ABC company's manager decides to allocate this project to me not just to find out solutions to the questions but also build a system that can help in recommending new places based on their rankings compared to the previously visited by me.\n",
    "\n",
    "Expectations from this recommender system is to get answer for the questions, and in such a way that it uncovers all the perspective of managing recommendations. It is sighted to show : \n",
    "\n",
    "1. What types of restaurants are present in a particular area ?\n",
    "2. where are the similar restaurant present based on a preference to particular food ?\n",
    "3. How do different restaurants rank with respect to my preferences ?\n"
   ]
  },
  {
   "cell_type": "markdown",
   "metadata": {},
   "source": [
    "### Purpose"
   ]
  },
  {
   "cell_type": "markdown",
   "metadata": {},
   "source": [
    "Purpose for this project is not only for the travellers but also everyone who rarely use restaurants would prefer to have the most rated restaurants nearby them and all this could be easily handed by our recommender system. It is basically everyone who is exploring different places or similar places and they can easily check the restaurant rating around them. \n"
   ]
  },
  {
   "cell_type": "code",
   "execution_count": null,
   "metadata": {},
   "outputs": [],
   "source": []
  }
 ],
 "metadata": {
  "kernelspec": {
   "display_name": "Python 3",
   "language": "python",
   "name": "python3"
  },
  "language_info": {
   "codemirror_mode": {
    "name": "ipython",
    "version": 3
   },
   "file_extension": ".py",
   "mimetype": "text/x-python",
   "name": "python",
   "nbconvert_exporter": "python",
   "pygments_lexer": "ipython3",
   "version": "3.7.3"
  }
 },
 "nbformat": 4,
 "nbformat_minor": 2
}
