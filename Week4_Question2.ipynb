{
 "cells": [
  {
   "cell_type": "markdown",
   "metadata": {},
   "source": [
    "# The battle of Neighborhoods"
   ]
  },
  {
   "cell_type": "markdown",
   "metadata": {},
   "source": [
    "## Week 4 : DATA SECTION"
   ]
  },
  {
   "cell_type": "markdown",
   "metadata": {},
   "source": [
    "## Title : Restaurant recommender system in Yangon"
   ]
  },
  {
   "cell_type": "markdown",
   "metadata": {},
   "source": [
    "### Data requirements : "
   ]
  },
  {
   "cell_type": "markdown",
   "metadata": {},
   "source": [
    "Before creating restaurant recommender system , we need data that can collect everywhere but we have to know which data is related in our system .A restaurant recommender system refers to a system that is capable of predicting a set of restaurants based on our locations , search for the restaurant near us and them recommend the top items.\n",
    "\n",
    "Finding a solution to the questions and build a recommender model, we need data and lots of data. Data can answer question which are unimaginable and non answerable by humans because humans do not have the tendency to analyse such large dataset and produce analtics to find a solutions.\n",
    "\n",
    "Consider the basic requirements in this scenario : \n",
    "\n",
    "Suppose I want to find a restaurant, then logically, i consider two things :\n",
    "1.I checked the location where I am ,then uses the google map to find our where exactly it is located and then check the restaurant include its latitude and longitude and create a map to display all the restaurants around me.\n",
    "\n",
    "2.Another one is population of the neighborhoods because I would like to know which restaurant is the suited for me, even though I find lots of restaurant near me.Imagine,the more population of a neighborhood, that restaurant would be  the best one.In my opinion, I find a resturant which has not only the more population but also a resonable price for the customers."
   ]
  },
  {
   "cell_type": "markdown",
   "metadata": {},
   "source": [
    "### Data collection : "
   ]
  },
  {
   "cell_type": "markdown",
   "metadata": {},
   "source": [
    "1. I collected geographical coordinates using google maps API to fectch latitude and longiude but  google API has limited number of calls that i could make with my free account.I have used beautifulSou4 libarary to scrap the list of distircts and neighborhoods of Yangon from wikipedia.Yangon has 4 boroghs and 33 neighborhoods.\n",
    "So i manually googled each neighborhood to find its corresponding latitude and longitude. After doing so, i produced the following dataframme.\n",
    "\n",
    "<img src=\"yangon_dataset.png\">"
   ]
  },
  {
   "cell_type": "markdown",
   "metadata": {},
   "source": [
    "2. I collected Population by neighborhoods from those cities. [Here is the link](https://en.wikipedia.org/wiki/List_of_cities_and_largest_towns_in_Myanmar).The dataframe for Yangon neighborhood population looks like : \n",
    "<img src=\"yangon_population.png\">"
   ]
  },
  {
   "cell_type": "markdown",
   "metadata": {},
   "source": [
    "4. FourSquare API :\n",
    "\n",
    "Use of foursquare is focused to fetch nearest venue locations so that we can use them to form a cluster. \n",
    "<img src=\"yangon_venues.png\">"
   ]
  },
  {
   "cell_type": "markdown",
   "metadata": {},
   "source": [
    "The following map is produced by marking all the niehgborhoods in Yangon city.\n",
    "<img src=\"yangon_map.png\">"
   ]
  },
  {
   "cell_type": "code",
   "execution_count": null,
   "metadata": {},
   "outputs": [],
   "source": []
  },
  {
   "cell_type": "code",
   "execution_count": null,
   "metadata": {},
   "outputs": [],
   "source": []
  }
 ],
 "metadata": {
  "kernelspec": {
   "display_name": "Python 3",
   "language": "python",
   "name": "python3"
  },
  "language_info": {
   "codemirror_mode": {
    "name": "ipython",
    "version": 3
   },
   "file_extension": ".py",
   "mimetype": "text/x-python",
   "name": "python",
   "nbconvert_exporter": "python",
   "pygments_lexer": "ipython3",
   "version": "3.7.3"
  }
 },
 "nbformat": 4,
 "nbformat_minor": 2
}
